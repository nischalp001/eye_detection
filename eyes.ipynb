{
 "cells": [
  {
   "cell_type": "code",
   "execution_count": 5,
   "id": "22b5a8a1",
   "metadata": {},
   "outputs": [
    {
     "ename": "KeyboardInterrupt",
     "evalue": "",
     "output_type": "error",
     "traceback": [
      "\u001b[31m---------------------------------------------------------------------------\u001b[39m",
      "\u001b[31mKeyboardInterrupt\u001b[39m                         Traceback (most recent call last)",
      "\u001b[36mCell\u001b[39m\u001b[36m \u001b[39m\u001b[32mIn[5]\u001b[39m\u001b[32m, line 63\u001b[39m\n\u001b[32m     58\u001b[39m         cv2.putText(frame, \u001b[33m'\u001b[39m\u001b[33mNo Eye Pairs Detected\u001b[39m\u001b[33m'\u001b[39m, (\u001b[32m20\u001b[39m, \u001b[32m30\u001b[39m),\n\u001b[32m     59\u001b[39m                     cv2.FONT_HERSHEY_SIMPLEX, \u001b[32m0.7\u001b[39m, (\u001b[32m0\u001b[39m, \u001b[32m0\u001b[39m, \u001b[32m255\u001b[39m), \u001b[32m2\u001b[39m)\n\u001b[32m     61\u001b[39m     cv2.imshow(\u001b[33m'\u001b[39m\u001b[33mBiggest Eye Pair Detection\u001b[39m\u001b[33m'\u001b[39m, frame)\n\u001b[32m---> \u001b[39m\u001b[32m63\u001b[39m     \u001b[38;5;28;01mif\u001b[39;00m \u001b[43mcv2\u001b[49m\u001b[43m.\u001b[49m\u001b[43mwaitKey\u001b[49m\u001b[43m(\u001b[49m\u001b[32;43m1\u001b[39;49m\u001b[43m)\u001b[49m & \u001b[32m0xFF\u001b[39m == \u001b[38;5;28mord\u001b[39m(\u001b[33m'\u001b[39m\u001b[33mq\u001b[39m\u001b[33m'\u001b[39m):\n\u001b[32m     64\u001b[39m         \u001b[38;5;28;01mbreak\u001b[39;00m\n\u001b[32m     66\u001b[39m cap.release()\n",
      "\u001b[31mKeyboardInterrupt\u001b[39m: "
     ]
    }
   ],
   "source": [
    "import cv2\n",
    "\n",
    "def find_eye_pairs(eyes, max_vertical_diff=20, max_horizontal_gap=150):\n",
    "    \"\"\"\n",
    "    Find pairs of eyes from the list of eye bounding boxes.\n",
    "\n",
    "    Args:\n",
    "        eyes: list of (x, y, w, h)\n",
    "        max_vertical_diff: max allowed vertical difference between eyes to be a pair\n",
    "        max_horizontal_gap: max allowed horizontal distance between eyes to be a pair\n",
    "\n",
    "    Returns:\n",
    "        List of pairs [(eye1, eye2), ...]\n",
    "    \"\"\"\n",
    "    pairs = []\n",
    "    eyes = sorted(eyes, key=lambda e: e[0])  # sort by x (left to right)\n",
    "\n",
    "    for i in range(len(eyes)):\n",
    "        for j in range(i+1, len(eyes)):\n",
    "            x1, y1, w1, h1 = eyes[i]\n",
    "            x2, y2, w2, h2 = eyes[j]\n",
    "\n",
    "            vertical_diff = abs(y1 - y2)\n",
    "            horizontal_gap = abs((x2 + w2/2) - (x1 + w1/2))\n",
    "\n",
    "            # Check vertical alignment and reasonable horizontal gap\n",
    "            if vertical_diff <= max_vertical_diff and horizontal_gap <= max_horizontal_gap:\n",
    "                pairs.append((eyes[i], eyes[j]))\n",
    "    return pairs\n",
    "\n",
    "\n",
    "eye_cascade = cv2.CascadeClassifier(cv2.data.haarcascades + 'haarcascade_eye.xml')\n",
    "cap = cv2.VideoCapture(0)\n",
    "\n",
    "if not cap.isOpened():\n",
    "    print(\"Cannot open webcam\")\n",
    "    exit()\n",
    "\n",
    "while True:\n",
    "    ret, frame = cap.read()\n",
    "    if not ret:\n",
    "        break\n",
    "\n",
    "    gray = cv2.cvtColor(frame, cv2.COLOR_BGR2GRAY)\n",
    "    eyes = eye_cascade.detectMultiScale(gray, scaleFactor=1.15, minNeighbors=8)\n",
    "\n",
    "    pairs = find_eye_pairs(eyes)\n",
    "\n",
    "    if pairs:\n",
    "        # Find the biggest pair by combined width\n",
    "        biggest_pair = max(pairs, key=lambda pair: pair[0][2] + pair[1][2])\n",
    "\n",
    "        for (x, y, w, h) in biggest_pair:\n",
    "            cv2.rectangle(frame, (x, y), (x + w, y + h), (0, 255, 0), 3)\n",
    "        cv2.putText(frame, 'Biggest Eye Pair', (biggest_pair[0][0], biggest_pair[0][1] - 10),\n",
    "                    cv2.FONT_HERSHEY_SIMPLEX, 0.7, (0, 255, 0), 2)\n",
    "    else:\n",
    "        cv2.putText(frame, 'No Eye Pairs Detected', (20, 30),\n",
    "                    cv2.FONT_HERSHEY_SIMPLEX, 0.7, (0, 0, 255), 2)\n",
    "\n",
    "    cv2.imshow('Biggest Eye Pair Detection', frame)\n",
    "\n",
    "    if cv2.waitKey(1) & 0xFF == ord('q'):\n",
    "        break\n",
    "\n",
    "cap.release()\n",
    "cv2.destroyAllWindows()\n"
   ]
  },
  {
   "cell_type": "code",
   "execution_count": 7,
   "id": "526f4277",
   "metadata": {},
   "outputs": [],
   "source": [
    "cap.release()\n",
    "cv2.destroyAllWindows()"
   ]
  },
  {
   "cell_type": "code",
   "execution_count": null,
   "id": "a9064470",
   "metadata": {},
   "outputs": [],
   "source": []
  }
 ],
 "metadata": {
  "kernelspec": {
   "display_name": "myenv",
   "language": "python",
   "name": "python3"
  },
  "language_info": {
   "codemirror_mode": {
    "name": "ipython",
    "version": 3
   },
   "file_extension": ".py",
   "mimetype": "text/x-python",
   "name": "python",
   "nbconvert_exporter": "python",
   "pygments_lexer": "ipython3",
   "version": "3.13.3"
  }
 },
 "nbformat": 4,
 "nbformat_minor": 5
}
